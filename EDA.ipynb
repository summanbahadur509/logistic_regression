{
 "cells": [
  {
   "cell_type": "markdown",
   "id": "07d04291",
   "metadata": {},
   "source": [
    "---   \n",
    " <img align=\"left\" width=\"75\" height=\"75\"  src=\"https://upload.wikimedia.org/wikipedia/en/c/c8/University_of_the_Punjab_logo.png\"> \n",
    "\n",
    "<h1 align=\"center\">Department of Data Science</h1>\n",
    "<h1 align=\"center\">Course: Tools and Techniques for Data Science</h1>\n",
    "\n",
    "---\n",
    "<h3>\n",
    "    <div align=\"right\"  style=\"font-size: small\">\n",
    "            Instructor: Muhammad Arif Butt, Ph.D.<br>\n",
    "            Name:Summan Bahadur <br>\n",
    "            Roll Number:MSDSF21M509 </div></h3>    "
   ]
  },
  {
   "cell_type": "markdown",
   "id": "f362a88f",
   "metadata": {},
   "source": [
    "<h1 align=\"center\">Impact of Women Empowerment on Fertility Preferences</h1>"
   ]
  },
  {
   "cell_type": "markdown",
   "id": "2a5c5e74",
   "metadata": {},
   "source": [
    "## Abstract\n",
    "<img align=\"right\" width=\"500\" height=\"300\"  src=\"images/image1.png\" > \n",
    "\n",
    "The relationship between women's empowerment and their fertility has been a major theme in studies of gender and development.<br> The improved status of women is considered to increase their educational attainment and economic opportunities, and lead to higher decision-making power.<br>\n",
    "Fertility decline is hypothesized as the result of such progress in women's empowerment. There have been many different suggestions on how women's empowerment initiates changes in fertility levels. However, the ways that women’s empowerment affects fertility has not been clearly identified.\n"
   ]
  },
  {
   "cell_type": "code",
   "execution_count": 161,
   "id": "62eef74b",
   "metadata": {},
   "outputs": [],
   "source": [
    "import pandas as pd\n",
    "import seaborn as sns"
   ]
  },
  {
   "cell_type": "code",
   "execution_count": 164,
   "id": "e4882ef1",
   "metadata": {},
   "outputs": [
    {
     "name": "stdout",
     "output_type": "stream",
     "text": [
      "Requirement already satisfied: pyreadstat in c:\\users\\sub\\anaconda3\\lib\\site-packages (1.1.4)\n",
      "Requirement already satisfied: pandas>=1.2.0 in c:\\users\\sub\\anaconda3\\lib\\site-packages (from pyreadstat) (1.2.4)\n",
      "Requirement already satisfied: python-dateutil>=2.7.3 in c:\\users\\sub\\anaconda3\\lib\\site-packages (from pandas>=1.2.0->pyreadstat) (2.8.1)\n",
      "Requirement already satisfied: numpy>=1.16.5 in c:\\users\\sub\\anaconda3\\lib\\site-packages (from pandas>=1.2.0->pyreadstat) (1.20.1)\n",
      "Requirement already satisfied: pytz>=2017.3 in c:\\users\\sub\\anaconda3\\lib\\site-packages (from pandas>=1.2.0->pyreadstat) (2021.1)\n",
      "Requirement already satisfied: six>=1.5 in c:\\users\\sub\\anaconda3\\lib\\site-packages (from python-dateutil>=2.7.3->pandas>=1.2.0->pyreadstat) (1.15.0)\n"
     ]
    }
   ],
   "source": [
    "!pip install pyreadstat"
   ]
  },
  {
   "cell_type": "markdown",
   "id": "5cc23874",
   "metadata": {},
   "source": [
    "### MICS6 DataSets for the selected Punjab,PAKISTAN\n",
    "<img align=\"right\" width=\"200\" height=\"200\"  src=\"images/punjab.jpg\" style=\"margin-right: 70px;margin-top: -40px;\"> \n",
    "\n",
    "1. Households - hh.sav \n",
    "2. Household members - hl.sav\n",
    "3. Women in reproductive age (15-49 years of age) – wm.sav\n",
    "4. Birth history of ever-married Women in reproductive age (15-49 years of age) – bh.sav\n",
    "5. Maternal mortality module administered from women in reproductive age (15-49 years of age) – mm.sav\n",
    "6. Men in reproductive age (15-49 years of age) – mn.sav\n",
    "7. Mothers or primary caretakers of children under the age of five – ch.sav\n",
    "8. Mothers or primary caretakers of children 5-17 – fs.sav"
   ]
  },
  {
   "cell_type": "markdown",
   "id": "f1640d5e",
   "metadata": {},
   "source": [
    "### Load All Required Data Files"
   ]
  },
  {
   "cell_type": "code",
   "execution_count": 165,
   "id": "53901342",
   "metadata": {},
   "outputs": [
    {
     "data": {
      "text/plain": [
       "(401080, 43)"
      ]
     },
     "execution_count": 165,
     "metadata": {},
     "output_type": "execute_result"
    }
   ],
   "source": [
    "#Reading SPSS .sav file\n",
    "\n",
    "import pyreadstat as pst\n",
    "\n",
    "#load all the files required\n",
    "df_maternal_mortality = pd.read_spss('datasets\\MICS 2017-18 Dataset_Final\\DataSet_Annonymized_Punjab_MICS 2017-18\\mm.sav')\n",
    "df_maternal_mortality.shape"
   ]
  },
  {
   "cell_type": "code",
   "execution_count": 166,
   "id": "e0e994ee",
   "metadata": {},
   "outputs": [
    {
     "data": {
      "text/plain": [
       "(79360, 420)"
      ]
     },
     "execution_count": 166,
     "metadata": {},
     "output_type": "execute_result"
    }
   ],
   "source": [
    "#Women in reproductive age (15-49 years of age)\n",
    "df_women = pd.read_spss('datasets\\MICS 2017-18 Dataset_Final\\DataSet_Annonymized_Punjab_MICS 2017-18\\wm.sav')\n",
    "df_women.shape"
   ]
  },
  {
   "cell_type": "code",
   "execution_count": 167,
   "id": "b6f6b146",
   "metadata": {},
   "outputs": [
    {
     "data": {
      "text/plain": [
       "(37052, 276)"
      ]
     },
     "execution_count": 167,
     "metadata": {},
     "output_type": "execute_result"
    }
   ],
   "source": [
    "df_women_fs = pd.read_spss('datasets\\MICS 2017-18 Dataset_Final\\DataSet_Annonymized_Punjab_MICS 2017-18\\sfs.sav')\n",
    "df_women_fs.shape"
   ]
  },
  {
   "cell_type": "code",
   "execution_count": 168,
   "id": "2cff2c7e",
   "metadata": {},
   "outputs": [
    {
     "data": {
      "text/plain": [
       "(330027, 104)"
      ]
     },
     "execution_count": 168,
     "metadata": {},
     "output_type": "execute_result"
    }
   ],
   "source": [
    "#Household members\n",
    "df_household_member = pd.read_spss('datasets\\MICS 2017-18 Dataset_Final\\DataSet_Annonymized_Punjab_MICS 2017-18\\hl.sav')\n",
    "df_household_member.shape"
   ]
  },
  {
   "cell_type": "code",
   "execution_count": 169,
   "id": "9a43f46a",
   "metadata": {},
   "outputs": [
    {
     "data": {
      "text/plain": [
       "(39368, 217)"
      ]
     },
     "execution_count": 169,
     "metadata": {},
     "output_type": "execute_result"
    }
   ],
   "source": [
    "#Men in reproductive age (15-49 years of age) \n",
    "df_men = pd.read_spss('datasets\\MICS 2017-18 Dataset_Final\\DataSet_Annonymized_Punjab_MICS 2017-18\\mn.sav')\n",
    "df_men.shape"
   ]
  },
  {
   "cell_type": "code",
   "execution_count": 8,
   "id": "95846e9f",
   "metadata": {},
   "outputs": [],
   "source": [
    "pd.set_option('max_columns', 274)\n",
    "pd.set_option('max_rows', 100)"
   ]
  },
  {
   "cell_type": "markdown",
   "id": "09e64fed",
   "metadata": {},
   "source": [
    "### Extracting Required Variables Series"
   ]
  },
  {
   "cell_type": "markdown",
   "id": "48f0b801",
   "metadata": {},
   "source": [
    "<img align=\"center\" width=\"800\" height=\"800\"  src=\"images/variables.png\" > \n"
   ]
  },
  {
   "cell_type": "markdown",
   "id": "7b33c9f1",
   "metadata": {},
   "source": [
    "**Socio-Cultural Empowerment**\n",
    "\n",
    "**Women Education**\n",
    " - `Women Education Level  - welevel`\n"
   ]
  },
  {
   "cell_type": "code",
   "execution_count": 9,
   "id": "6b0f7611",
   "metadata": {},
   "outputs": [],
   "source": [
    "df_maternal_mortality_we = df_maternal_mortality.loc[:,['welevel']]"
   ]
  },
  {
   "cell_type": "code",
   "execution_count": 10,
   "id": "0fee5983",
   "metadata": {},
   "outputs": [
    {
     "data": {
      "text/html": [
       "<div>\n",
       "<style scoped>\n",
       "    .dataframe tbody tr th:only-of-type {\n",
       "        vertical-align: middle;\n",
       "    }\n",
       "\n",
       "    .dataframe tbody tr th {\n",
       "        vertical-align: top;\n",
       "    }\n",
       "\n",
       "    .dataframe thead th {\n",
       "        text-align: right;\n",
       "    }\n",
       "</style>\n",
       "<table border=\"1\" class=\"dataframe\">\n",
       "  <thead>\n",
       "    <tr style=\"text-align: right;\">\n",
       "      <th></th>\n",
       "      <th>welevel</th>\n",
       "    </tr>\n",
       "  </thead>\n",
       "  <tbody>\n",
       "    <tr>\n",
       "      <th>0</th>\n",
       "      <td>Higher</td>\n",
       "    </tr>\n",
       "    <tr>\n",
       "      <th>1</th>\n",
       "      <td>Higher</td>\n",
       "    </tr>\n",
       "    <tr>\n",
       "      <th>2</th>\n",
       "      <td>Higher</td>\n",
       "    </tr>\n",
       "    <tr>\n",
       "      <th>3</th>\n",
       "      <td>Higher</td>\n",
       "    </tr>\n",
       "    <tr>\n",
       "      <th>4</th>\n",
       "      <td>Higher</td>\n",
       "    </tr>\n",
       "    <tr>\n",
       "      <th>...</th>\n",
       "      <td>...</td>\n",
       "    </tr>\n",
       "    <tr>\n",
       "      <th>401075</th>\n",
       "      <td>None/Preschool</td>\n",
       "    </tr>\n",
       "    <tr>\n",
       "      <th>401076</th>\n",
       "      <td>None/Preschool</td>\n",
       "    </tr>\n",
       "    <tr>\n",
       "      <th>401077</th>\n",
       "      <td>None/Preschool</td>\n",
       "    </tr>\n",
       "    <tr>\n",
       "      <th>401078</th>\n",
       "      <td>None/Preschool</td>\n",
       "    </tr>\n",
       "    <tr>\n",
       "      <th>401079</th>\n",
       "      <td>None/Preschool</td>\n",
       "    </tr>\n",
       "  </tbody>\n",
       "</table>\n",
       "<p>401080 rows × 1 columns</p>\n",
       "</div>"
      ],
      "text/plain": [
       "               welevel\n",
       "0               Higher\n",
       "1               Higher\n",
       "2               Higher\n",
       "3               Higher\n",
       "4               Higher\n",
       "...                ...\n",
       "401075  None/Preschool\n",
       "401076  None/Preschool\n",
       "401077  None/Preschool\n",
       "401078  None/Preschool\n",
       "401079  None/Preschool\n",
       "\n",
       "[401080 rows x 1 columns]"
      ]
     },
     "execution_count": 10,
     "metadata": {},
     "output_type": "execute_result"
    }
   ],
   "source": [
    "df_maternal_mortality_we"
   ]
  },
  {
   "cell_type": "markdown",
   "id": "2ddd04ed",
   "metadata": {},
   "source": [
    "**Access to information**\n",
    " - `Ever used internet  - MT9 ` \n",
    " - `Ever used a computer -MT4 `\n",
    " - `Frequency of using newspaper or magazine -MT1`"
   ]
  },
  {
   "cell_type": "markdown",
   "id": "0a7c67c9",
   "metadata": {},
   "source": [
    "**Economic Empowerment**\n",
    "\n",
    "**Labor Market Access**\n",
    " - `Produced or sold articles in market  - CL1C `<br>\n",
    "**Type of earnings**\n",
    " - `Engaged in any other activity for income -CL1X `\n",
    " - `Hours worked in past week for income -CL3`"
   ]
  },
  {
   "cell_type": "code",
   "execution_count": 11,
   "id": "1b979802",
   "metadata": {},
   "outputs": [
    {
     "data": {
      "text/plain": [
       "<bound method NDFrame.head of       CL1X CL1B\n",
       "0       NO   NO\n",
       "1       NO   NO\n",
       "2       NO   NO\n",
       "3       NO   NO\n",
       "4       NO  YES\n",
       "...    ...  ...\n",
       "37047   NO   NO\n",
       "37048   NO   NO\n",
       "37049   NO   NO\n",
       "37050  NaN  NaN\n",
       "37051   NO   NO\n",
       "\n",
       "[37052 rows x 2 columns]>"
      ]
     },
     "execution_count": 11,
     "metadata": {},
     "output_type": "execute_result"
    }
   ],
   "source": [
    "df_women_fs_economic = df_women_fs.loc[:,['CL1X','CL1B']]\n",
    "df_women_fs_economic.head\n"
   ]
  },
  {
   "cell_type": "markdown",
   "id": "92d3d4e1",
   "metadata": {},
   "source": [
    "**Family Empowerment**\n",
    "\n",
    "**Participation in major household decision makings**\n",
    " - `Helped in family business  - CL1B  -fs`\n",
    " - `Overall Happiness  - LS1 `<br>\n",
    "**Age at first marriage**\n",
    " - `Age at first marriage -WAGEM`<br>\n",
    "**Acess to family Planning**\n",
    " - `Wanted baby later or did not wanted more childern -UN4 `\n",
    " - `Would like to have another child -UN7`\n",
    " - `Desired waiting time -UN8N `\n",
    "    "
   ]
  },
  {
   "cell_type": "code",
   "execution_count": 12,
   "id": "c0fbc2b2",
   "metadata": {},
   "outputs": [
    {
     "data": {
      "text/plain": [
       "<bound method NDFrame.head of                   LS1    UN4  WAGEM  UN2\n",
       "0          VERY HAPPY    NaN    NaN  NaN\n",
       "1          VERY HAPPY    NaN    NaN  NaN\n",
       "2          VERY HAPPY    NaN    NaN  NaN\n",
       "3      SOMEWHAT HAPPY    NaN   26.0  NaN\n",
       "4          VERY HAPPY    NaN    NaN  NaN\n",
       "...               ...    ...    ...  ...\n",
       "79355      VERY HAPPY    NaN   21.0  NaN\n",
       "79356             NaN    NaN   21.0  NaN\n",
       "79357      VERY HAPPY  LATER   31.0   NO\n",
       "79358  SOMEWHAT HAPPY    NaN   20.0  NaN\n",
       "79359             NaN    NaN    NaN  NaN\n",
       "\n",
       "[79360 rows x 4 columns]>"
      ]
     },
     "execution_count": 12,
     "metadata": {},
     "output_type": "execute_result"
    }
   ],
   "source": [
    "df_women_family_empowerment = df_women.loc[:,['LS1','UN4','WAGEM','UN2']]\n",
    "df_women_family_empowerment.head"
   ]
  },
  {
   "cell_type": "markdown",
   "id": "31698b55",
   "metadata": {},
   "source": [
    "**Control Variables**\n",
    "\n",
    "**Husband Education**\n",
    " - `Father Education - felevel -hl` <br>\n",
    "**Place of Residence**\n",
    " - `Area -HH6 -mm`<br>\n",
    "**Religious Affiliation**\n",
    " - `Religious Affiliation -MVT22E -mn`"
   ]
  },
  {
   "cell_type": "code",
   "execution_count": 13,
   "id": "070c2b12",
   "metadata": {},
   "outputs": [
    {
     "data": {
      "text/plain": [
       "0               NaN\n",
       "1               NaN\n",
       "2               NaN\n",
       "3               NaN\n",
       "4               NaN\n",
       "            ...    \n",
       "330022    Secondary\n",
       "330023          NaN\n",
       "330024          NaN\n",
       "330025          NaN\n",
       "330026          NaN\n",
       "Name: felevel, Length: 330027, dtype: category\n",
       "Categories (6, object): [7.0, 'Higher', 'Middle', 'None/Preschool', 'Primary', 'Secondary']"
      ]
     },
     "execution_count": 13,
     "metadata": {},
     "output_type": "execute_result"
    }
   ],
   "source": [
    "df_household_member_fe = df_household_member.loc[:,'felevel']\n",
    "df_household_member_fe"
   ]
  },
  {
   "cell_type": "code",
   "execution_count": 14,
   "id": "414735a8",
   "metadata": {},
   "outputs": [
    {
     "data": {
      "text/plain": [
       "0         URBAN\n",
       "1         URBAN\n",
       "2         URBAN\n",
       "3         URBAN\n",
       "4         URBAN\n",
       "          ...  \n",
       "401075    RURAL\n",
       "401076    RURAL\n",
       "401077    RURAL\n",
       "401078    RURAL\n",
       "401079    RURAL\n",
       "Name: HH6, Length: 401080, dtype: category\n",
       "Categories (2, object): ['RURAL', 'URBAN']"
      ]
     },
     "execution_count": 14,
     "metadata": {},
     "output_type": "execute_result"
    }
   ],
   "source": [
    "df_place_of_residence = df_maternal_mortality.loc[:,'HH6']\n",
    "df_place_of_residence"
   ]
  },
  {
   "cell_type": "code",
   "execution_count": 15,
   "id": "b55c0838",
   "metadata": {},
   "outputs": [
    {
     "data": {
      "text/plain": [
       "0         NO\n",
       "1         NO\n",
       "2         NO\n",
       "3         NO\n",
       "4         NO\n",
       "        ... \n",
       "79355     NO\n",
       "79356    NaN\n",
       "79357     NO\n",
       "79358     NO\n",
       "79359    NaN\n",
       "Name: VT22E, Length: 79360, dtype: category\n",
       "Categories (4, object): ['DK', 'NO', 'NO RESPONSE', 'YES']"
      ]
     },
     "execution_count": 15,
     "metadata": {},
     "output_type": "execute_result"
    }
   ],
   "source": [
    "df_religious_affiliation = df_women.loc[:,'VT22E']\n",
    "df_religious_affiliation"
   ]
  },
  {
   "cell_type": "markdown",
   "id": "42749ac5",
   "metadata": {},
   "source": [
    "### Data Cleaning and Manipulation"
   ]
  },
  {
   "cell_type": "markdown",
   "id": "c48aa238",
   "metadata": {},
   "source": [
    "**Variable - welevel - women eductaion**"
   ]
  },
  {
   "cell_type": "code",
   "execution_count": 16,
   "id": "bc967b4a",
   "metadata": {},
   "outputs": [
    {
     "name": "stdout",
     "output_type": "stream",
     "text": [
      "<class 'pandas.core.frame.DataFrame'>\n",
      "RangeIndex: 401080 entries, 0 to 401079\n",
      "Data columns (total 1 columns):\n",
      " #   Column   Non-Null Count   Dtype   \n",
      "---  ------   --------------   -----   \n",
      " 0   welevel  401080 non-null  category\n",
      "dtypes: category(1)\n",
      "memory usage: 392.0 KB\n"
     ]
    }
   ],
   "source": [
    "df_maternal_mortality_we.info()"
   ]
  },
  {
   "cell_type": "code",
   "execution_count": 17,
   "id": "6c312e82",
   "metadata": {},
   "outputs": [
    {
     "data": {
      "text/plain": [
       "0                 Higher\n",
       "1                 Higher\n",
       "2                 Higher\n",
       "3                 Higher\n",
       "4                 Higher\n",
       "               ...      \n",
       "401075    None/Preschool\n",
       "401076    None/Preschool\n",
       "401077    None/Preschool\n",
       "401078    None/Preschool\n",
       "401079    None/Preschool\n",
       "Name: welevel, Length: 401080, dtype: category\n",
       "Categories (6, object): ['Higher', 'Middle', 'Missing/DK', 'None/Preschool', 'Primary', 'Secondary']"
      ]
     },
     "execution_count": 17,
     "metadata": {},
     "output_type": "execute_result"
    }
   ],
   "source": [
    "df_maternal_mortality_we.welevel"
   ]
  },
  {
   "cell_type": "code",
   "execution_count": 18,
   "id": "932b600d",
   "metadata": {},
   "outputs": [
    {
     "data": {
      "text/plain": [
       "0"
      ]
     },
     "execution_count": 18,
     "metadata": {},
     "output_type": "execute_result"
    }
   ],
   "source": [
    "#Checking missing values\n",
    "df_maternal_mortality_we['welevel'].isnull().sum()"
   ]
  },
  {
   "cell_type": "code",
   "execution_count": 25,
   "id": "2ccfbf6c",
   "metadata": {
    "scrolled": true
   },
   "outputs": [
    {
     "data": {
      "text/plain": [
       "None/Preschool    153246\n",
       "Primary            81485\n",
       "Secondary          61769\n",
       "Higher             60611\n",
       "Middle             43965\n",
       "Name: welevel, dtype: int64"
      ]
     },
     "execution_count": 25,
     "metadata": {},
     "output_type": "execute_result"
    }
   ],
   "source": [
    "#Frequency count\n",
    "df_maternal_mortality_we.welevel.value_counts()"
   ]
  },
  {
   "cell_type": "code",
   "execution_count": 20,
   "id": "7b00a65c",
   "metadata": {},
   "outputs": [],
   "source": [
    "#Get the rows having Missing/DK\n",
    "rows_with_missing_values =df_maternal_mortality_we.loc[df_maternal_mortality_we['welevel']=='Missing/DK']"
   ]
  },
  {
   "cell_type": "code",
   "execution_count": 21,
   "id": "3b2e5fd7",
   "metadata": {},
   "outputs": [
    {
     "data": {
      "text/html": [
       "<div>\n",
       "<style scoped>\n",
       "    .dataframe tbody tr th:only-of-type {\n",
       "        vertical-align: middle;\n",
       "    }\n",
       "\n",
       "    .dataframe tbody tr th {\n",
       "        vertical-align: top;\n",
       "    }\n",
       "\n",
       "    .dataframe thead th {\n",
       "        text-align: right;\n",
       "    }\n",
       "</style>\n",
       "<table border=\"1\" class=\"dataframe\">\n",
       "  <thead>\n",
       "    <tr style=\"text-align: right;\">\n",
       "      <th></th>\n",
       "      <th>welevel</th>\n",
       "    </tr>\n",
       "  </thead>\n",
       "  <tbody>\n",
       "    <tr>\n",
       "      <th>232433</th>\n",
       "      <td>Missing/DK</td>\n",
       "    </tr>\n",
       "    <tr>\n",
       "      <th>232434</th>\n",
       "      <td>Missing/DK</td>\n",
       "    </tr>\n",
       "    <tr>\n",
       "      <th>232435</th>\n",
       "      <td>Missing/DK</td>\n",
       "    </tr>\n",
       "    <tr>\n",
       "      <th>232436</th>\n",
       "      <td>Missing/DK</td>\n",
       "    </tr>\n",
       "  </tbody>\n",
       "</table>\n",
       "</div>"
      ],
      "text/plain": [
       "           welevel\n",
       "232433  Missing/DK\n",
       "232434  Missing/DK\n",
       "232435  Missing/DK\n",
       "232436  Missing/DK"
      ]
     },
     "execution_count": 21,
     "metadata": {},
     "output_type": "execute_result"
    }
   ],
   "source": [
    "rows_with_missing_values"
   ]
  },
  {
   "cell_type": "code",
   "execution_count": 22,
   "id": "8a4ad399",
   "metadata": {},
   "outputs": [],
   "source": [
    "#Drop the rows \n",
    "df_maternal_mortality_we.drop(rows_with_missing_values.index,inplace=True)"
   ]
  },
  {
   "cell_type": "code",
   "execution_count": 24,
   "id": "2b6ba3c0",
   "metadata": {},
   "outputs": [],
   "source": [
    "#Remove the category also\n",
    "df_maternal_mortality_we.welevel=df_maternal_mortality_we.welevel.cat.remove_categories('Missing/DK')"
   ]
  },
  {
   "cell_type": "code",
   "execution_count": 26,
   "id": "db2a571f",
   "metadata": {},
   "outputs": [
    {
     "data": {
      "text/plain": [
       "None/Preschool    153246\n",
       "Primary            81485\n",
       "Secondary          61769\n",
       "Higher             60611\n",
       "Middle             43965\n",
       "Name: welevel, dtype: int64"
      ]
     },
     "execution_count": 26,
     "metadata": {},
     "output_type": "execute_result"
    }
   ],
   "source": [
    "#Check the stats again\n",
    "total_count_welevel = df_maternal_mortality_we.welevel.value_counts()\n",
    "total_count_welevel"
   ]
  },
  {
   "cell_type": "code",
   "execution_count": 27,
   "id": "20195740",
   "metadata": {},
   "outputs": [
    {
     "data": {
      "image/png": "[encoded data removed]",
      "text/plain": [
       "<Figure size 432x288 with 1 Axes>"
      ]
     },
     "metadata": {},
     "output_type": "display_data"
    }
   ],
   "source": [
    "#Creating a Pie chart to visualize the data\n",
    "import matplotlib.pyplot as plt\n",
    "import seaborn as sns\n",
    "\n",
    "#TODO: add percentages in pie chart\n",
    "#TODO:remove the category Missing/DK\n",
    "labels=['None/Preschool','Primary','Middle','Secondary','Higher']\n",
    "plt.pie(total_count_welevel,labels=labels)\n",
    "plt.show()"
   ]
  },
  {
   "cell_type": "code",
   "execution_count": 28,
   "id": "f54fc78c",
   "metadata": {},
   "outputs": [
    {
     "data": {
      "text/html": [
       "<div>\n",
       "<style scoped>\n",
       "    .dataframe tbody tr th:only-of-type {\n",
       "        vertical-align: middle;\n",
       "    }\n",
       "\n",
       "    .dataframe tbody tr th {\n",
       "        vertical-align: top;\n",
       "    }\n",
       "\n",
       "    .dataframe thead th {\n",
       "        text-align: right;\n",
       "    }\n",
       "</style>\n",
       "<table border=\"1\" class=\"dataframe\">\n",
       "  <thead>\n",
       "    <tr style=\"text-align: right;\">\n",
       "      <th></th>\n",
       "      <th>welevel</th>\n",
       "    </tr>\n",
       "  </thead>\n",
       "  <tbody>\n",
       "    <tr>\n",
       "      <th>0</th>\n",
       "      <td>Higher</td>\n",
       "    </tr>\n",
       "    <tr>\n",
       "      <th>1</th>\n",
       "      <td>Higher</td>\n",
       "    </tr>\n",
       "    <tr>\n",
       "      <th>2</th>\n",
       "      <td>Higher</td>\n",
       "    </tr>\n",
       "    <tr>\n",
       "      <th>3</th>\n",
       "      <td>Higher</td>\n",
       "    </tr>\n",
       "    <tr>\n",
       "      <th>4</th>\n",
       "      <td>Higher</td>\n",
       "    </tr>\n",
       "  </tbody>\n",
       "</table>\n",
       "</div>"
      ],
      "text/plain": [
       "  welevel\n",
       "0  Higher\n",
       "1  Higher\n",
       "2  Higher\n",
       "3  Higher\n",
       "4  Higher"
      ]
     },
     "execution_count": 28,
     "metadata": {},
     "output_type": "execute_result"
    }
   ],
   "source": [
    "df_maternal_mortality_we.head()"
   ]
  },
  {
   "cell_type": "code",
   "execution_count": 29,
   "id": "46c06d25",
   "metadata": {},
   "outputs": [],
   "source": [
    "welevel_filtered = df_maternal_mortality_we.welevel.iloc[0:10000]"
   ]
  },
  {
   "cell_type": "code",
   "execution_count": 30,
   "id": "48f23b7b",
   "metadata": {},
   "outputs": [
    {
     "data": {
      "text/plain": [
       "None/Preschool    5292\n",
       "Primary           1565\n",
       "Higher            1252\n",
       "Secondary         1066\n",
       "Middle             825\n",
       "Name: welevel, dtype: int64"
      ]
     },
     "execution_count": 30,
     "metadata": {},
     "output_type": "execute_result"
    }
   ],
   "source": [
    "welevel_filtered.value_counts()"
   ]
  },
  {
   "cell_type": "code",
   "execution_count": 31,
   "id": "9622a3f5",
   "metadata": {},
   "outputs": [
    {
     "data": {
      "text/plain": [
       "(10000,)"
      ]
     },
     "execution_count": 31,
     "metadata": {},
     "output_type": "execute_result"
    }
   ],
   "source": [
    "welevel_filtered.shape"
   ]
  },
  {
   "cell_type": "markdown",
   "id": "e6221452",
   "metadata": {},
   "source": [
    "**Second Variable : CL1X - Engaged in any other activity for income in past week**"
   ]
  },
  {
   "cell_type": "code",
   "execution_count": 32,
   "id": "a48a0a54",
   "metadata": {},
   "outputs": [
    {
     "data": {
      "text/plain": [
       "NO             33734\n",
       "YES             1820\n",
       "NO RESPONSE       43\n",
       "Name: CL1X, dtype: int64"
      ]
     },
     "execution_count": 32,
     "metadata": {},
     "output_type": "execute_result"
    }
   ],
   "source": [
    "df_women_fs_economic.CL1X.value_counts()"
   ]
  },
  {
   "cell_type": "code",
   "execution_count": 33,
   "id": "facd45d1",
   "metadata": {},
   "outputs": [
    {
     "data": {
      "text/plain": [
       "1455"
      ]
     },
     "execution_count": 33,
     "metadata": {},
     "output_type": "execute_result"
    }
   ],
   "source": [
    "df_women_fs_economic.CL1X.isnull().sum()"
   ]
  },
  {
   "cell_type": "code",
   "execution_count": 34,
   "id": "87300959",
   "metadata": {},
   "outputs": [],
   "source": [
    "cl1x_filtered =df_women_fs_economic.CL1X"
   ]
  },
  {
   "cell_type": "code",
   "execution_count": 40,
   "id": "e3871466",
   "metadata": {},
   "outputs": [
    {
     "data": {
      "text/plain": [
       "43"
      ]
     },
     "execution_count": 40,
     "metadata": {},
     "output_type": "execute_result"
    }
   ],
   "source": [
    "cl1x_filtered.isnull().sum()"
   ]
  },
  {
   "cell_type": "code",
   "execution_count": 37,
   "id": "6d42aa79",
   "metadata": {},
   "outputs": [],
   "source": [
    "#Remove the category NO RESPONSE\n",
    "cl1x_filtered=cl1x_filtered.cat.remove_categories('NO RESPONSE')"
   ]
  },
  {
   "cell_type": "code",
   "execution_count": 38,
   "id": "c1b6e583",
   "metadata": {},
   "outputs": [
    {
     "data": {
      "text/plain": [
       "NO     33734\n",
       "YES     1820\n",
       "Name: CL1X, dtype: int64"
      ]
     },
     "execution_count": 38,
     "metadata": {},
     "output_type": "execute_result"
    }
   ],
   "source": [
    "cl1x_filtered.value_counts()"
   ]
  },
  {
   "cell_type": "code",
   "execution_count": 41,
   "id": "928d1c76",
   "metadata": {},
   "outputs": [
    {
     "data": {
      "text/plain": [
       "'NO'"
      ]
     },
     "execution_count": 41,
     "metadata": {},
     "output_type": "execute_result"
    }
   ],
   "source": [
    "cl1x_filtered.mode()[0]"
   ]
  },
  {
   "cell_type": "code",
   "execution_count": 42,
   "id": "17f55c2d",
   "metadata": {},
   "outputs": [],
   "source": [
    "cl1x_filtered.fillna(cl1x_filtered.mode()[0] , inplace=True)"
   ]
  },
  {
   "cell_type": "code",
   "execution_count": 43,
   "id": "81c7451c",
   "metadata": {},
   "outputs": [
    {
     "data": {
      "image/png": "[encoded data removed]",
      "text/plain": [
       "<Figure size 432x288 with 1 Axes>"
      ]
     },
     "metadata": {},
     "output_type": "display_data"
    }
   ],
   "source": [
    "cl1x_count = cl1x_filtered.value_counts()\n",
    "labels=['NO','YES']\n",
    "plt.pie(cl1x_count,labels=labels)\n",
    "plt.show()"
   ]
  },
  {
   "cell_type": "code",
   "execution_count": 44,
   "id": "42192088",
   "metadata": {},
   "outputs": [
    {
     "data": {
      "text/plain": [
       "0     NO\n",
       "1     NO\n",
       "2     NO\n",
       "3     NO\n",
       "4     NO\n",
       "5     NO\n",
       "6     NO\n",
       "7     NO\n",
       "8     NO\n",
       "9     NO\n",
       "10    NO\n",
       "11    NO\n",
       "Name: CL1X, dtype: category\n",
       "Categories (2, object): ['NO', 'YES']"
      ]
     },
     "execution_count": 44,
     "metadata": {},
     "output_type": "execute_result"
    }
   ],
   "source": [
    "cl1x_filtered = cl1x_filtered.iloc[0:10000]\n",
    "cl1x_filtered.head(12)"
   ]
  },
  {
   "cell_type": "code",
   "execution_count": 45,
   "id": "d03f3673",
   "metadata": {},
   "outputs": [
    {
     "data": {
      "text/plain": [
       "NO     9471\n",
       "YES     529\n",
       "Name: CL1X, dtype: int64"
      ]
     },
     "execution_count": 45,
     "metadata": {},
     "output_type": "execute_result"
    }
   ],
   "source": [
    "cl1x_filtered.value_counts()"
   ]
  },
  {
   "cell_type": "code",
   "execution_count": 46,
   "id": "a17dd957",
   "metadata": {},
   "outputs": [
    {
     "data": {
      "text/plain": [
       "(10000,)"
      ]
     },
     "execution_count": 46,
     "metadata": {},
     "output_type": "execute_result"
    }
   ],
   "source": [
    "cl1x_filtered.shape"
   ]
  },
  {
   "cell_type": "code",
   "execution_count": 47,
   "id": "66d8aeaf",
   "metadata": {},
   "outputs": [
    {
     "data": {
      "text/plain": [
       "0"
      ]
     },
     "execution_count": 47,
     "metadata": {},
     "output_type": "execute_result"
    }
   ],
   "source": [
    "cl1x_filtered.isnull().sum()"
   ]
  },
  {
   "cell_type": "markdown",
   "id": "ceee0792",
   "metadata": {},
   "source": [
    "**Third Variable : CL1B - Helped in family business in past week**"
   ]
  },
  {
   "cell_type": "code",
   "execution_count": 48,
   "id": "5bb88b02",
   "metadata": {},
   "outputs": [
    {
     "data": {
      "text/plain": [
       "NO             33561\n",
       "YES             1999\n",
       "NO RESPONSE       37\n",
       "Name: CL1B, dtype: int64"
      ]
     },
     "execution_count": 48,
     "metadata": {},
     "output_type": "execute_result"
    }
   ],
   "source": [
    "df_women_fs_economic.CL1B.value_counts()"
   ]
  },
  {
   "cell_type": "code",
   "execution_count": 49,
   "id": "d984b564",
   "metadata": {},
   "outputs": [],
   "source": [
    "#Remove the category NO RESPONSE\n",
    "df_women_fs_economic.CL1B=df_women_fs_economic.CL1B.cat.remove_categories('NO RESPONSE')"
   ]
  },
  {
   "cell_type": "code",
   "execution_count": 50,
   "id": "515443d7",
   "metadata": {},
   "outputs": [
    {
     "data": {
      "image/png": "[encoded data removed]",
      "text/plain": [
       "<Figure size 432x288 with 1 Axes>"
      ]
     },
     "metadata": {},
     "output_type": "display_data"
    }
   ],
   "source": [
    "cl1b_count = df_women_fs_economic.CL1B.value_counts()\n",
    "labels=['NO','YES']\n",
    "plt.pie(cl1b_count,labels=labels)\n",
    "plt.show()"
   ]
  },
  {
   "cell_type": "code",
   "execution_count": 51,
   "id": "f7380834",
   "metadata": {},
   "outputs": [],
   "source": [
    "cl1b_filtered = df_women_fs_economic.CL1B"
   ]
  },
  {
   "cell_type": "code",
   "execution_count": 56,
   "id": "601c15f8",
   "metadata": {},
   "outputs": [
    {
     "data": {
      "text/plain": [
       "0"
      ]
     },
     "execution_count": 56,
     "metadata": {},
     "output_type": "execute_result"
    }
   ],
   "source": [
    "cl1b_filtered.isnull().sum()"
   ]
  },
  {
   "cell_type": "code",
   "execution_count": 53,
   "id": "3b31e8da",
   "metadata": {},
   "outputs": [
    {
     "data": {
      "text/plain": [
       "NO     33561\n",
       "YES     1999\n",
       "Name: CL1B, dtype: int64"
      ]
     },
     "execution_count": 53,
     "metadata": {},
     "output_type": "execute_result"
    }
   ],
   "source": [
    "cl1b_filtered.value_counts()"
   ]
  },
  {
   "cell_type": "code",
   "execution_count": 54,
   "id": "713c4e13",
   "metadata": {},
   "outputs": [],
   "source": [
    "cl1b_filtered.dropna(inplace=True)"
   ]
  },
  {
   "cell_type": "code",
   "execution_count": 55,
   "id": "136a3c33",
   "metadata": {},
   "outputs": [
    {
     "data": {
      "text/plain": [
       "0       NO\n",
       "1       NO\n",
       "2       NO\n",
       "3       NO\n",
       "4      YES\n",
       "5       NO\n",
       "6       NO\n",
       "7       NO\n",
       "8       NO\n",
       "9       NO\n",
       "10      NO\n",
       "11      NO\n",
       "12      NO\n",
       "13      NO\n",
       "14      NO\n",
       "15      NO\n",
       "16      NO\n",
       "17      NO\n",
       "18      NO\n",
       "19      NO\n",
       "20      NO\n",
       "21      NO\n",
       "22      NO\n",
       "23      NO\n",
       "24      NO\n",
       "25      NO\n",
       "26      NO\n",
       "27      NO\n",
       "28     YES\n",
       "29      NO\n",
       "30      NO\n",
       "31      NO\n",
       "32      NO\n",
       "33      NO\n",
       "34      NO\n",
       "35      NO\n",
       "36      NO\n",
       "37      NO\n",
       "38      NO\n",
       "39      NO\n",
       "41      NO\n",
       "42      NO\n",
       "43      NO\n",
       "44      NO\n",
       "45      NO\n",
       "46      NO\n",
       "48      NO\n",
       "49      NO\n",
       "50      NO\n",
       "51      NO\n",
       "52      NO\n",
       "53      NO\n",
       "54      NO\n",
       "55      NO\n",
       "56      NO\n",
       "57      NO\n",
       "58      NO\n",
       "59      NO\n",
       "60      NO\n",
       "61      NO\n",
       "62      NO\n",
       "63      NO\n",
       "64      NO\n",
       "65     YES\n",
       "66      NO\n",
       "67      NO\n",
       "68      NO\n",
       "69      NO\n",
       "70      NO\n",
       "72      NO\n",
       "73      NO\n",
       "74      NO\n",
       "75      NO\n",
       "76      NO\n",
       "77      NO\n",
       "78      NO\n",
       "79      NO\n",
       "80      NO\n",
       "81      NO\n",
       "82      NO\n",
       "83      NO\n",
       "84      NO\n",
       "85      NO\n",
       "86      NO\n",
       "87      NO\n",
       "88      NO\n",
       "91      NO\n",
       "92      NO\n",
       "93      NO\n",
       "94      NO\n",
       "95      NO\n",
       "96      NO\n",
       "97      NO\n",
       "98      NO\n",
       "99      NO\n",
       "100     NO\n",
       "101     NO\n",
       "102     NO\n",
       "103     NO\n",
       "104     NO\n",
       "Name: CL1B, dtype: category\n",
       "Categories (2, object): ['NO', 'YES']"
      ]
     },
     "execution_count": 55,
     "metadata": {},
     "output_type": "execute_result"
    }
   ],
   "source": [
    "cl1b_filtered = cl1b_filtered.iloc[0:10000]\n",
    "cl1b_filtered.head(100)"
   ]
  },
  {
   "cell_type": "code",
   "execution_count": 57,
   "id": "3275396b",
   "metadata": {},
   "outputs": [
    {
     "data": {
      "text/plain": [
       "NO     9272\n",
       "YES     728\n",
       "Name: CL1B, dtype: int64"
      ]
     },
     "execution_count": 57,
     "metadata": {},
     "output_type": "execute_result"
    }
   ],
   "source": [
    "cl1b_filtered.value_counts()"
   ]
  },
  {
   "cell_type": "code",
   "execution_count": 58,
   "id": "f6f45446",
   "metadata": {},
   "outputs": [
    {
     "data": {
      "text/plain": [
       "(10000,)"
      ]
     },
     "execution_count": 58,
     "metadata": {},
     "output_type": "execute_result"
    }
   ],
   "source": [
    "cl1b_filtered.shape"
   ]
  },
  {
   "cell_type": "markdown",
   "id": "db93e435",
   "metadata": {},
   "source": [
    "**Fourth Variable - LS1 - Estimation of overall happiness**"
   ]
  },
  {
   "cell_type": "code",
   "execution_count": 59,
   "id": "da5ea532",
   "metadata": {},
   "outputs": [
    {
     "name": "stdout",
     "output_type": "stream",
     "text": [
      "<class 'pandas.core.frame.DataFrame'>\n",
      "RangeIndex: 79360 entries, 0 to 79359\n",
      "Data columns (total 4 columns):\n",
      " #   Column  Non-Null Count  Dtype   \n",
      "---  ------  --------------  -----   \n",
      " 0   LS1     74011 non-null  category\n",
      " 1   UN4     844 non-null    category\n",
      " 2   WAGEM   53049 non-null  float64 \n",
      " 3   UN2     4832 non-null   category\n",
      "dtypes: category(3), float64(1)\n",
      "memory usage: 853.1 KB\n"
     ]
    }
   ],
   "source": [
    "df_women_family_empowerment.info()"
   ]
  },
  {
   "cell_type": "code",
   "execution_count": 60,
   "id": "14f0df99",
   "metadata": {},
   "outputs": [],
   "source": [
    "LS1_filtered =df_women_family_empowerment.LS1"
   ]
  },
  {
   "cell_type": "code",
   "execution_count": 61,
   "id": "d337168d",
   "metadata": {},
   "outputs": [
    {
     "data": {
      "text/plain": [
       "5349"
      ]
     },
     "execution_count": 61,
     "metadata": {},
     "output_type": "execute_result"
    }
   ],
   "source": [
    "#Checking missing values\n",
    "LS1_filtered.isnull().sum()"
   ]
  },
  {
   "cell_type": "code",
   "execution_count": 62,
   "id": "7aca57cd",
   "metadata": {},
   "outputs": [
    {
     "data": {
      "text/plain": [
       "VERY HAPPY                   34386\n",
       "SOMEWHAT HAPPY               25664\n",
       "NEITHER HAPPY NOR UNHAPPY    10632\n",
       "SOMEWHAT UNHAPPY              2225\n",
       "VERY UNHAPPY                  1025\n",
       "NO RESPONSE                     79\n",
       "Name: LS1, dtype: int64"
      ]
     },
     "execution_count": 62,
     "metadata": {},
     "output_type": "execute_result"
    }
   ],
   "source": [
    "LS1_filtered.value_counts()"
   ]
  },
  {
   "cell_type": "code",
   "execution_count": 63,
   "id": "7c67b7e9",
   "metadata": {},
   "outputs": [],
   "source": [
    "#Remove the category NO RESPONSE\n",
    "LS1_filtered=LS1_filtered.cat.remove_categories('NO RESPONSE')"
   ]
  },
  {
   "cell_type": "code",
   "execution_count": 64,
   "id": "522a23c9",
   "metadata": {},
   "outputs": [],
   "source": [
    "#if we drop na values we cannot get total required rows\n",
    "LS1_filtered.fillna('SOMEWHAT HAPPY',inplace=True)"
   ]
  },
  {
   "cell_type": "code",
   "execution_count": 65,
   "id": "c645f9c5",
   "metadata": {},
   "outputs": [
    {
     "data": {
      "image/png": "[encoded data removed]",
      "text/plain": [
       "<Figure size 432x288 with 1 Axes>"
      ]
     },
     "metadata": {},
     "output_type": "display_data"
    }
   ],
   "source": [
    "ls1_count = LS1_filtered.value_counts()\n",
    "labels=['VERY HAPPY','SOMEWHAT HAPPY','NEITHER HAPPY NOT UNHAPPY','SOMEWHAT UNHAPPY','VERY UNHAPPY']\n",
    "plt.pie(ls1_count,labels=labels)\n",
    "plt.show()"
   ]
  },
  {
   "cell_type": "code",
   "execution_count": 66,
   "id": "b96f8c76",
   "metadata": {},
   "outputs": [],
   "source": [
    "LS1_filtered = LS1_filtered.iloc[0:10000]"
   ]
  },
  {
   "cell_type": "code",
   "execution_count": 67,
   "id": "33cee13a",
   "metadata": {},
   "outputs": [
    {
     "data": {
      "text/plain": [
       "(10000,)"
      ]
     },
     "execution_count": 67,
     "metadata": {},
     "output_type": "execute_result"
    }
   ],
   "source": [
    "LS1_filtered.shape"
   ]
  },
  {
   "cell_type": "markdown",
   "id": "f9a7ed23",
   "metadata": {},
   "source": [
    "**Fifth Variable - UN4 - Wanted baby later or did not want more childern**"
   ]
  },
  {
   "cell_type": "code",
   "execution_count": 68,
   "id": "26f077d8",
   "metadata": {},
   "outputs": [],
   "source": [
    "UN4_filtered = df_women_family_empowerment.UN4\n"
   ]
  },
  {
   "cell_type": "code",
   "execution_count": 69,
   "id": "4af3917e",
   "metadata": {},
   "outputs": [
    {
     "data": {
      "text/plain": [
       "LATER             455\n",
       "NONE / NO MORE    376\n",
       "NO RESPONSE        13\n",
       "Name: UN4, dtype: int64"
      ]
     },
     "execution_count": 69,
     "metadata": {},
     "output_type": "execute_result"
    }
   ],
   "source": [
    "UN4_filtered.value_counts()"
   ]
  },
  {
   "cell_type": "code",
   "execution_count": 73,
   "id": "112f85c9",
   "metadata": {},
   "outputs": [
    {
     "data": {
      "text/plain": [
       "78529"
      ]
     },
     "execution_count": 73,
     "metadata": {},
     "output_type": "execute_result"
    }
   ],
   "source": [
    "#Checking missing values\n",
    "UN4_filtered.isnull().sum()"
   ]
  },
  {
   "cell_type": "code",
   "execution_count": 71,
   "id": "78dd7668",
   "metadata": {},
   "outputs": [],
   "source": [
    "#Remove the category NO RESPONSE\n",
    "UN4_filtered=UN4_filtered.cat.remove_categories('NO RESPONSE')"
   ]
  },
  {
   "cell_type": "code",
   "execution_count": 72,
   "id": "77557927",
   "metadata": {},
   "outputs": [
    {
     "data": {
      "image/png": "[encoded data removed]",
      "text/plain": [
       "<Figure size 432x288 with 1 Axes>"
      ]
     },
     "metadata": {},
     "output_type": "display_data"
    }
   ],
   "source": [
    "UN4_count = UN4_filtered.value_counts()\n",
    "labels=['later','none/no more']\n",
    "plt.pie(UN4_count,labels=labels)\n",
    "plt.show()"
   ]
  },
  {
   "cell_type": "code",
   "execution_count": 76,
   "id": "354a3ead",
   "metadata": {},
   "outputs": [
    {
     "data": {
      "text/plain": [
       "0    NONE / NO MORE\n",
       "1    NONE / NO MORE\n",
       "2    NONE / NO MORE\n",
       "3    NONE / NO MORE\n",
       "4    NONE / NO MORE\n",
       "Name: UN4, dtype: category\n",
       "Categories (2, object): ['LATER', 'NONE / NO MORE']"
      ]
     },
     "execution_count": 76,
     "metadata": {},
     "output_type": "execute_result"
    }
   ],
   "source": [
    "UN4_filtered = UN4_filtered.iloc[0:10000]\n",
    "UN4_filtered.head()"
   ]
  },
  {
   "cell_type": "code",
   "execution_count": 79,
   "id": "7d53b2fe",
   "metadata": {},
   "outputs": [
    {
     "data": {
      "text/plain": [
       "0"
      ]
     },
     "execution_count": 79,
     "metadata": {},
     "output_type": "execute_result"
    }
   ],
   "source": [
    "UN4_filtered.isnull().sum()"
   ]
  },
  {
   "cell_type": "code",
   "execution_count": 78,
   "id": "8024d465",
   "metadata": {},
   "outputs": [
    {
     "data": {
      "text/plain": [
       "0"
      ]
     },
     "execution_count": 78,
     "metadata": {},
     "output_type": "execute_result"
    }
   ],
   "source": [
    "UN4_filtered.fillna('NONE / NO MORE',inplace=True)\n",
    "UN4_filtered.isnull().sum()"
   ]
  },
  {
   "cell_type": "code",
   "execution_count": null,
   "id": "61021adf",
   "metadata": {},
   "outputs": [],
   "source": [
    "UN4_filtered.head(15)"
   ]
  },
  {
   "cell_type": "code",
   "execution_count": null,
   "id": "b634f32c",
   "metadata": {},
   "outputs": [],
   "source": [
    "UN4_filtered.shape"
   ]
  },
  {
   "cell_type": "markdown",
   "id": "0b02f765",
   "metadata": {},
   "source": [
    "**Sixth Variable - WAGEM - Age at first marriage**"
   ]
  },
  {
   "cell_type": "code",
   "execution_count": 80,
   "id": "3bd7432b",
   "metadata": {},
   "outputs": [
    {
     "data": {
      "text/plain": [
       "count    53049.000000\n",
       "mean        20.680446\n",
       "std          4.654033\n",
       "min          9.000000\n",
       "25%         18.000000\n",
       "50%         20.000000\n",
       "75%         23.000000\n",
       "max         48.000000\n",
       "Name: WAGEM, dtype: float64"
      ]
     },
     "execution_count": 80,
     "metadata": {},
     "output_type": "execute_result"
    }
   ],
   "source": [
    "df_women_family_empowerment.WAGEM.describe()\n"
   ]
  },
  {
   "cell_type": "markdown",
   "id": "5935302f",
   "metadata": {},
   "source": [
    "Value of an age at first marriage cannot be minimum 9! <br>\n",
    "Hence filter rows by giving only a range of acceptable range taking it to be 16-35 "
   ]
  },
  {
   "cell_type": "code",
   "execution_count": 81,
   "id": "b75a3c92",
   "metadata": {},
   "outputs": [],
   "source": [
    "WAGEM_filtered = df_women_family_empowerment.loc[df_women_family_empowerment.WAGEM.between(16,35),'WAGEM']"
   ]
  },
  {
   "cell_type": "code",
   "execution_count": 82,
   "id": "5e617e39",
   "metadata": {},
   "outputs": [
    {
     "data": {
      "text/plain": [
       "count    46819.000000\n",
       "mean        21.454153\n",
       "std          3.949401\n",
       "min         16.000000\n",
       "25%         18.000000\n",
       "50%         21.000000\n",
       "75%         24.000000\n",
       "max         35.000000\n",
       "Name: WAGEM, dtype: float64"
      ]
     },
     "execution_count": 82,
     "metadata": {},
     "output_type": "execute_result"
    }
   ],
   "source": [
    "WAGEM_filtered.describe()"
   ]
  },
  {
   "cell_type": "code",
   "execution_count": 83,
   "id": "6467b161",
   "metadata": {},
   "outputs": [
    {
     "data": {
      "text/plain": [
       "0"
      ]
     },
     "execution_count": 83,
     "metadata": {},
     "output_type": "execute_result"
    }
   ],
   "source": [
    "#Checking missing values\n",
    "WAGEM_filtered.isnull().sum()"
   ]
  },
  {
   "cell_type": "code",
   "execution_count": 84,
   "id": "928f14c9",
   "metadata": {},
   "outputs": [
    {
     "data": {
      "text/plain": [
       "(46819,)"
      ]
     },
     "execution_count": 84,
     "metadata": {},
     "output_type": "execute_result"
    }
   ],
   "source": [
    "WAGEM_filtered.shape"
   ]
  },
  {
   "cell_type": "markdown",
   "id": "b8e5efb1",
   "metadata": {},
   "source": [
    "Replace null values with new mean age"
   ]
  },
  {
   "cell_type": "code",
   "execution_count": 85,
   "id": "d22713d7",
   "metadata": {},
   "outputs": [],
   "source": [
    "WAGEM_filtered.fillna(21 , inplace=True)"
   ]
  },
  {
   "cell_type": "code",
   "execution_count": 86,
   "id": "1743d21f",
   "metadata": {},
   "outputs": [],
   "source": [
    "WAGEM_filtered = WAGEM_filtered.iloc[0:10000]\n"
   ]
  },
  {
   "cell_type": "code",
   "execution_count": 87,
   "id": "b5eca8b0",
   "metadata": {},
   "outputs": [
    {
     "data": {
      "text/plain": [
       "count    10000.000000\n",
       "mean        21.087600\n",
       "std          3.954073\n",
       "min         16.000000\n",
       "25%         18.000000\n",
       "50%         20.000000\n",
       "75%         23.000000\n",
       "max         35.000000\n",
       "Name: WAGEM, dtype: float64"
      ]
     },
     "execution_count": 87,
     "metadata": {},
     "output_type": "execute_result"
    }
   ],
   "source": [
    "WAGEM_filtered.describe()"
   ]
  },
  {
   "cell_type": "code",
   "execution_count": 144,
   "id": "66a7cf65",
   "metadata": {},
   "outputs": [
    {
     "data": {
      "image/png": "[encoded data removed]",
      "text/plain": [
       "<Figure size 432x288 with 1 Axes>"
      ]
     },
     "metadata": {},
     "output_type": "display_data"
    }
   ],
   "source": [
    "plt.style.use('ggplot')\n",
    "plt.hist(WAGEM_filtered)\n",
    "plt.xlabel(\"Age\")\n",
    "plt.ylabel(\"Age Disribution\")\n",
    "plt.title(\"Age Distribution Histogram\")\n",
    "plt.show()"
   ]
  },
  {
   "cell_type": "code",
   "execution_count": 88,
   "id": "0865a4e8",
   "metadata": {},
   "outputs": [
    {
     "data": {
      "text/plain": [
       "(10000,)"
      ]
     },
     "execution_count": 88,
     "metadata": {},
     "output_type": "execute_result"
    }
   ],
   "source": [
    "WAGEM_filtered.shape"
   ]
  },
  {
   "cell_type": "markdown",
   "id": "97354ad7",
   "metadata": {},
   "source": [
    "**Seventh Variable - HH6 - Area**"
   ]
  },
  {
   "cell_type": "code",
   "execution_count": 89,
   "id": "71a95a42",
   "metadata": {},
   "outputs": [
    {
     "data": {
      "text/plain": [
       "RURAL    288383\n",
       "URBAN    112697\n",
       "Name: HH6, dtype: int64"
      ]
     },
     "execution_count": 89,
     "metadata": {},
     "output_type": "execute_result"
    }
   ],
   "source": [
    "df_place_of_residence.value_counts()"
   ]
  },
  {
   "cell_type": "code",
   "execution_count": 90,
   "id": "3b552a28",
   "metadata": {},
   "outputs": [
    {
     "data": {
      "text/plain": [
       "0"
      ]
     },
     "execution_count": 90,
     "metadata": {},
     "output_type": "execute_result"
    }
   ],
   "source": [
    "df_place_of_residence.isnull().sum()"
   ]
  },
  {
   "cell_type": "code",
   "execution_count": 91,
   "id": "a4136ef9",
   "metadata": {},
   "outputs": [],
   "source": [
    "HH6_filtered = df_place_of_residence.iloc[0:10000]"
   ]
  },
  {
   "cell_type": "code",
   "execution_count": 148,
   "id": "8e6f9f95",
   "metadata": {},
   "outputs": [
    {
     "data": {
      "text/plain": [
       "0    URBAN\n",
       "1    URBAN\n",
       "2    URBAN\n",
       "3    URBAN\n",
       "4    URBAN\n",
       "Name: HH6, dtype: category\n",
       "Categories (2, object): ['RURAL', 'URBAN']"
      ]
     },
     "execution_count": 148,
     "metadata": {},
     "output_type": "execute_result"
    }
   ],
   "source": [
    "HH6_filtered.head()"
   ]
  },
  {
   "cell_type": "code",
   "execution_count": 157,
   "id": "c283dd4e",
   "metadata": {},
   "outputs": [
    {
     "data": {
      "text/plain": [
       "<AxesSubplot:>"
      ]
     },
     "execution_count": 157,
     "metadata": {},
     "output_type": "execute_result"
    },
    {
     "data": {
      "image/png": "[encoded data removed]",
      "text/plain": [
       "<Figure size 432x288 with 1 Axes>"
      ]
     },
     "metadata": {},
     "output_type": "display_data"
    }
   ],
   "source": [
    "HH6_filtered.value_counts().plot(kind='bar', color=['green', 'skyblue'])"
   ]
  },
  {
   "cell_type": "markdown",
   "id": "7098c7e0",
   "metadata": {},
   "source": [
    "**Eight Variable - felevel - Father Education**"
   ]
  },
  {
   "cell_type": "code",
   "execution_count": 107,
   "id": "10d8ed21",
   "metadata": {},
   "outputs": [
    {
     "data": {
      "text/plain": [
       "None/Preschool    38326\n",
       "Secondary         27589\n",
       "Primary           23757\n",
       "Middle            20127\n",
       "Higher            15959\n",
       "7.0               15801\n",
       "Name: felevel, dtype: int64"
      ]
     },
     "execution_count": 107,
     "metadata": {},
     "output_type": "execute_result"
    }
   ],
   "source": [
    "df_household_member_fe.value_counts()"
   ]
  },
  {
   "cell_type": "code",
   "execution_count": 108,
   "id": "10ce9665",
   "metadata": {},
   "outputs": [
    {
     "data": {
      "text/plain": [
       "188468"
      ]
     },
     "execution_count": 108,
     "metadata": {},
     "output_type": "execute_result"
    }
   ],
   "source": [
    "df_household_member_fe.isnull().sum()"
   ]
  },
  {
   "cell_type": "code",
   "execution_count": 109,
   "id": "7a5c80f3",
   "metadata": {},
   "outputs": [],
   "source": [
    "felevel_filtered = df_household_member_fe.cat.remove_categories(7.0)"
   ]
  },
  {
   "cell_type": "code",
   "execution_count": 110,
   "id": "6d6e418a",
   "metadata": {},
   "outputs": [
    {
     "data": {
      "text/plain": [
       "None/Preschool    38326\n",
       "Secondary         27589\n",
       "Primary           23757\n",
       "Middle            20127\n",
       "Higher            15959\n",
       "Name: felevel, dtype: int64"
      ]
     },
     "execution_count": 110,
     "metadata": {},
     "output_type": "execute_result"
    }
   ],
   "source": [
    "felevel_filtered.value_counts()"
   ]
  },
  {
   "cell_type": "code",
   "execution_count": 111,
   "id": "242fbeb4",
   "metadata": {},
   "outputs": [],
   "source": [
    "felevel_filtered.dropna(inplace=True)"
   ]
  },
  {
   "cell_type": "code",
   "execution_count": 112,
   "id": "3a403d5b",
   "metadata": {},
   "outputs": [],
   "source": [
    "felevel_filtered = felevel_filtered.iloc[0:10000]"
   ]
  },
  {
   "cell_type": "code",
   "execution_count": 113,
   "id": "06b936fe",
   "metadata": {},
   "outputs": [
    {
     "data": {
      "text/plain": [
       "0"
      ]
     },
     "execution_count": 113,
     "metadata": {},
     "output_type": "execute_result"
    }
   ],
   "source": [
    "felevel_filtered.isnull().sum()"
   ]
  },
  {
   "cell_type": "code",
   "execution_count": 114,
   "id": "6403213b",
   "metadata": {},
   "outputs": [
    {
     "data": {
      "text/plain": [
       "(10000,)"
      ]
     },
     "execution_count": 114,
     "metadata": {},
     "output_type": "execute_result"
    }
   ],
   "source": [
    "felevel_filtered.shape"
   ]
  },
  {
   "cell_type": "code",
   "execution_count": 115,
   "id": "3be2e223",
   "metadata": {},
   "outputs": [
    {
     "data": {
      "image/png": "[encoded data removed]",
      "text/plain": [
       "<Figure size 432x288 with 1 Axes>"
      ]
     },
     "metadata": {},
     "output_type": "display_data"
    }
   ],
   "source": [
    "felevel_count = felevel_filtered.value_counts()\n",
    "labels=['None/Preschool','Secondary','Primary','Middle','Higher']\n",
    "plt.pie(felevel_count,labels=labels)\n",
    "plt.show()"
   ]
  },
  {
   "cell_type": "markdown",
   "id": "bb478dd7",
   "metadata": {},
   "source": [
    "**Ninth Variable - VT22E - Religious Affiliation**"
   ]
  },
  {
   "cell_type": "code",
   "execution_count": 116,
   "id": "8243528d",
   "metadata": {},
   "outputs": [
    {
     "data": {
      "text/plain": [
       "NO             72605\n",
       "YES              999\n",
       "DK               315\n",
       "NO RESPONSE       92\n",
       "Name: VT22E, dtype: int64"
      ]
     },
     "execution_count": 116,
     "metadata": {},
     "output_type": "execute_result"
    }
   ],
   "source": [
    "df_religious_affiliation.value_counts()"
   ]
  },
  {
   "cell_type": "code",
   "execution_count": 117,
   "id": "2703b0b6",
   "metadata": {},
   "outputs": [
    {
     "data": {
      "text/plain": [
       "5349"
      ]
     },
     "execution_count": 117,
     "metadata": {},
     "output_type": "execute_result"
    }
   ],
   "source": [
    "df_religious_affiliation.isnull().sum()"
   ]
  },
  {
   "cell_type": "code",
   "execution_count": 118,
   "id": "95faddcd",
   "metadata": {},
   "outputs": [],
   "source": [
    "VT22E_filtered = df_religious_affiliation.cat.remove_categories(['DK','NO RESPONSE'])"
   ]
  },
  {
   "cell_type": "code",
   "execution_count": 119,
   "id": "b4b54044",
   "metadata": {},
   "outputs": [
    {
     "data": {
      "text/plain": [
       "NO     72605\n",
       "YES      999\n",
       "Name: VT22E, dtype: int64"
      ]
     },
     "execution_count": 119,
     "metadata": {},
     "output_type": "execute_result"
    }
   ],
   "source": [
    "VT22E_filtered.value_counts()"
   ]
  },
  {
   "cell_type": "code",
   "execution_count": 120,
   "id": "ce898668",
   "metadata": {},
   "outputs": [
    {
     "data": {
      "text/plain": [
       "5756"
      ]
     },
     "execution_count": 120,
     "metadata": {},
     "output_type": "execute_result"
    }
   ],
   "source": [
    "VT22E_filtered.isnull().sum()"
   ]
  },
  {
   "cell_type": "code",
   "execution_count": 121,
   "id": "ccef0106",
   "metadata": {},
   "outputs": [],
   "source": [
    "VT22E_filtered.dropna(inplace=True)"
   ]
  },
  {
   "cell_type": "code",
   "execution_count": 122,
   "id": "0c465447",
   "metadata": {},
   "outputs": [],
   "source": [
    "VT22E_filtered = VT22E_filtered.iloc[0:10000]"
   ]
  },
  {
   "cell_type": "code",
   "execution_count": 123,
   "id": "723656ab",
   "metadata": {},
   "outputs": [
    {
     "data": {
      "text/plain": [
       "(10000,)"
      ]
     },
     "execution_count": 123,
     "metadata": {},
     "output_type": "execute_result"
    }
   ],
   "source": [
    "VT22E_filtered.shape"
   ]
  },
  {
   "cell_type": "markdown",
   "id": "84326221",
   "metadata": {},
   "source": [
    "**Tenth Variable - UN2 - Wanted to a child at the time**"
   ]
  },
  {
   "cell_type": "code",
   "execution_count": 158,
   "id": "ee80b74e",
   "metadata": {},
   "outputs": [],
   "source": [
    "UN2_filtered = df_women_family_empowerment.UN2"
   ]
  },
  {
   "cell_type": "code",
   "execution_count": 159,
   "id": "72bd2eae",
   "metadata": {},
   "outputs": [
    {
     "data": {
      "text/plain": [
       "YES            3988\n",
       "NO              834\n",
       "NO RESPONSE      10\n",
       "Name: UN2, dtype: int64"
      ]
     },
     "execution_count": 159,
     "metadata": {},
     "output_type": "execute_result"
    }
   ],
   "source": [
    "UN2_filtered.value_counts()"
   ]
  },
  {
   "cell_type": "code",
   "execution_count": 160,
   "id": "4473ad29",
   "metadata": {},
   "outputs": [],
   "source": [
    "UN2_filtered = UN2_filtered.cat.remove_categories('NO RESPONSE')"
   ]
  },
  {
   "cell_type": "code",
   "execution_count": 129,
   "id": "5a711ec2",
   "metadata": {},
   "outputs": [
    {
     "data": {
      "text/plain": [
       "74538"
      ]
     },
     "execution_count": 129,
     "metadata": {},
     "output_type": "execute_result"
    }
   ],
   "source": [
    "UN2_filtered.isnull().sum()"
   ]
  },
  {
   "cell_type": "code",
   "execution_count": 130,
   "id": "6f43b8ff",
   "metadata": {},
   "outputs": [],
   "source": [
    "UN2_filtered = UN2_filtered.iloc[0:10000]"
   ]
  },
  {
   "cell_type": "code",
   "execution_count": 131,
   "id": "4b6ab270",
   "metadata": {},
   "outputs": [
    {
     "data": {
      "text/plain": [
       "9311"
      ]
     },
     "execution_count": 131,
     "metadata": {},
     "output_type": "execute_result"
    }
   ],
   "source": [
    "UN2_filtered.isnull().sum()"
   ]
  },
  {
   "cell_type": "code",
   "execution_count": 132,
   "id": "a27a7a64",
   "metadata": {},
   "outputs": [],
   "source": [
    "UN2_filtered.fillna('NO',inplace=True) #Ideally should place yes as average Yes is more"
   ]
  },
  {
   "cell_type": "code",
   "execution_count": 133,
   "id": "ebdea197",
   "metadata": {},
   "outputs": [
    {
     "data": {
      "text/plain": [
       "NO     9417\n",
       "YES     583\n",
       "Name: UN2, dtype: int64"
      ]
     },
     "execution_count": 133,
     "metadata": {},
     "output_type": "execute_result"
    }
   ],
   "source": [
    "UN2_filtered.value_counts()"
   ]
  },
  {
   "cell_type": "code",
   "execution_count": 134,
   "id": "d0127240",
   "metadata": {},
   "outputs": [
    {
     "data": {
      "text/plain": [
       "(10000,)"
      ]
     },
     "execution_count": 134,
     "metadata": {},
     "output_type": "execute_result"
    }
   ],
   "source": [
    "UN2_filtered.shape"
   ]
  },
  {
   "cell_type": "markdown",
   "id": "a9e005b3",
   "metadata": {},
   "source": [
    "**Converting all the series to a final dataframe**"
   ]
  },
  {
   "cell_type": "code",
   "execution_count": 136,
   "id": "c1cbdc1d",
   "metadata": {},
   "outputs": [],
   "source": [
    "#WAGEM variable had different indexes\n",
    "import numpy as np\n",
    "welevel_filtered\n",
    "cl1x_filtered.index = np.arange(10000)\n",
    "cl1b_filtered.index = np.arange(10000)\n",
    "LS1_filtered.index = np.arange(10000)\n",
    "UN4_filtered.index = np.arange(10000)\n",
    "WAGEM_filtered.index = np.arange(10000)\n",
    "HH6_filtered.index = np.arange(10000)\n",
    "VT22E_filtered.index = np.arange(10000)\n",
    "felevel_filtered.index = np.arange(10000)\n",
    "UN2_filtered.index = np.arange(10000)"
   ]
  },
  {
   "cell_type": "code",
   "execution_count": 137,
   "id": "ea59c584",
   "metadata": {},
   "outputs": [],
   "source": [
    "final_dataframe = pd.concat([welevel_filtered,cl1x_filtered,cl1b_filtered,LS1_filtered,UN4_filtered,WAGEM_filtered,HH6_filtered,felevel_filtered,UN2_filtered,VT22E_filtered],axis=1)"
   ]
  },
  {
   "cell_type": "code",
   "execution_count": 138,
   "id": "20e26a40",
   "metadata": {},
   "outputs": [
    {
     "data": {
      "text/html": [
       "<div>\n",
       "<style scoped>\n",
       "    .dataframe tbody tr th:only-of-type {\n",
       "        vertical-align: middle;\n",
       "    }\n",
       "\n",
       "    .dataframe tbody tr th {\n",
       "        vertical-align: top;\n",
       "    }\n",
       "\n",
       "    .dataframe thead th {\n",
       "        text-align: right;\n",
       "    }\n",
       "</style>\n",
       "<table border=\"1\" class=\"dataframe\">\n",
       "  <thead>\n",
       "    <tr style=\"text-align: right;\">\n",
       "      <th></th>\n",
       "      <th>welevel</th>\n",
       "      <th>CL1X</th>\n",
       "      <th>CL1B</th>\n",
       "      <th>LS1</th>\n",
       "      <th>UN4</th>\n",
       "      <th>WAGEM</th>\n",
       "      <th>HH6</th>\n",
       "      <th>felevel</th>\n",
       "      <th>UN2</th>\n",
       "      <th>VT22E</th>\n",
       "    </tr>\n",
       "  </thead>\n",
       "  <tbody>\n",
       "    <tr>\n",
       "      <th>0</th>\n",
       "      <td>Higher</td>\n",
       "      <td>NO</td>\n",
       "      <td>NO</td>\n",
       "      <td>VERY HAPPY</td>\n",
       "      <td>NONE / NO MORE</td>\n",
       "      <td>26.0</td>\n",
       "      <td>URBAN</td>\n",
       "      <td>Higher</td>\n",
       "      <td>NO</td>\n",
       "      <td>NO</td>\n",
       "    </tr>\n",
       "    <tr>\n",
       "      <th>1</th>\n",
       "      <td>Higher</td>\n",
       "      <td>NO</td>\n",
       "      <td>NO</td>\n",
       "      <td>VERY HAPPY</td>\n",
       "      <td>NONE / NO MORE</td>\n",
       "      <td>27.0</td>\n",
       "      <td>URBAN</td>\n",
       "      <td>Higher</td>\n",
       "      <td>NO</td>\n",
       "      <td>NO</td>\n",
       "    </tr>\n",
       "    <tr>\n",
       "      <th>2</th>\n",
       "      <td>Higher</td>\n",
       "      <td>NO</td>\n",
       "      <td>NO</td>\n",
       "      <td>VERY HAPPY</td>\n",
       "      <td>NONE / NO MORE</td>\n",
       "      <td>18.0</td>\n",
       "      <td>URBAN</td>\n",
       "      <td>Secondary</td>\n",
       "      <td>NO</td>\n",
       "      <td>NO</td>\n",
       "    </tr>\n",
       "    <tr>\n",
       "      <th>3</th>\n",
       "      <td>Higher</td>\n",
       "      <td>NO</td>\n",
       "      <td>NO</td>\n",
       "      <td>SOMEWHAT HAPPY</td>\n",
       "      <td>NONE / NO MORE</td>\n",
       "      <td>18.0</td>\n",
       "      <td>URBAN</td>\n",
       "      <td>Higher</td>\n",
       "      <td>NO</td>\n",
       "      <td>NO</td>\n",
       "    </tr>\n",
       "    <tr>\n",
       "      <th>4</th>\n",
       "      <td>Higher</td>\n",
       "      <td>NO</td>\n",
       "      <td>YES</td>\n",
       "      <td>VERY HAPPY</td>\n",
       "      <td>NONE / NO MORE</td>\n",
       "      <td>28.0</td>\n",
       "      <td>URBAN</td>\n",
       "      <td>Higher</td>\n",
       "      <td>NO</td>\n",
       "      <td>NO</td>\n",
       "    </tr>\n",
       "    <tr>\n",
       "      <th>5</th>\n",
       "      <td>Higher</td>\n",
       "      <td>NO</td>\n",
       "      <td>NO</td>\n",
       "      <td>NEITHER HAPPY NOR UNHAPPY</td>\n",
       "      <td>NONE / NO MORE</td>\n",
       "      <td>26.0</td>\n",
       "      <td>URBAN</td>\n",
       "      <td>None/Preschool</td>\n",
       "      <td>NO</td>\n",
       "      <td>NO</td>\n",
       "    </tr>\n",
       "    <tr>\n",
       "      <th>6</th>\n",
       "      <td>Secondary</td>\n",
       "      <td>NO</td>\n",
       "      <td>NO</td>\n",
       "      <td>VERY HAPPY</td>\n",
       "      <td>NONE / NO MORE</td>\n",
       "      <td>25.0</td>\n",
       "      <td>URBAN</td>\n",
       "      <td>None/Preschool</td>\n",
       "      <td>NO</td>\n",
       "      <td>NO</td>\n",
       "    </tr>\n",
       "    <tr>\n",
       "      <th>7</th>\n",
       "      <td>Secondary</td>\n",
       "      <td>NO</td>\n",
       "      <td>NO</td>\n",
       "      <td>VERY HAPPY</td>\n",
       "      <td>NONE / NO MORE</td>\n",
       "      <td>20.0</td>\n",
       "      <td>URBAN</td>\n",
       "      <td>Primary</td>\n",
       "      <td>NO</td>\n",
       "      <td>NO</td>\n",
       "    </tr>\n",
       "    <tr>\n",
       "      <th>8</th>\n",
       "      <td>Higher</td>\n",
       "      <td>NO</td>\n",
       "      <td>NO</td>\n",
       "      <td>VERY HAPPY</td>\n",
       "      <td>NONE / NO MORE</td>\n",
       "      <td>20.0</td>\n",
       "      <td>URBAN</td>\n",
       "      <td>Primary</td>\n",
       "      <td>NO</td>\n",
       "      <td>NO</td>\n",
       "    </tr>\n",
       "    <tr>\n",
       "      <th>9</th>\n",
       "      <td>Higher</td>\n",
       "      <td>NO</td>\n",
       "      <td>NO</td>\n",
       "      <td>VERY HAPPY</td>\n",
       "      <td>NONE / NO MORE</td>\n",
       "      <td>25.0</td>\n",
       "      <td>URBAN</td>\n",
       "      <td>None/Preschool</td>\n",
       "      <td>NO</td>\n",
       "      <td>NO</td>\n",
       "    </tr>\n",
       "    <tr>\n",
       "      <th>10</th>\n",
       "      <td>Higher</td>\n",
       "      <td>NO</td>\n",
       "      <td>NO</td>\n",
       "      <td>VERY HAPPY</td>\n",
       "      <td>NONE / NO MORE</td>\n",
       "      <td>17.0</td>\n",
       "      <td>URBAN</td>\n",
       "      <td>Higher</td>\n",
       "      <td>NO</td>\n",
       "      <td>NO</td>\n",
       "    </tr>\n",
       "    <tr>\n",
       "      <th>11</th>\n",
       "      <td>Higher</td>\n",
       "      <td>NO</td>\n",
       "      <td>NO</td>\n",
       "      <td>SOMEWHAT HAPPY</td>\n",
       "      <td>NONE / NO MORE</td>\n",
       "      <td>19.0</td>\n",
       "      <td>URBAN</td>\n",
       "      <td>Higher</td>\n",
       "      <td>NO</td>\n",
       "      <td>NO</td>\n",
       "    </tr>\n",
       "    <tr>\n",
       "      <th>12</th>\n",
       "      <td>Higher</td>\n",
       "      <td>NO</td>\n",
       "      <td>NO</td>\n",
       "      <td>VERY HAPPY</td>\n",
       "      <td>NONE / NO MORE</td>\n",
       "      <td>27.0</td>\n",
       "      <td>URBAN</td>\n",
       "      <td>Higher</td>\n",
       "      <td>NO</td>\n",
       "      <td>NO</td>\n",
       "    </tr>\n",
       "    <tr>\n",
       "      <th>13</th>\n",
       "      <td>Higher</td>\n",
       "      <td>NO</td>\n",
       "      <td>NO</td>\n",
       "      <td>SOMEWHAT HAPPY</td>\n",
       "      <td>NONE / NO MORE</td>\n",
       "      <td>20.0</td>\n",
       "      <td>URBAN</td>\n",
       "      <td>Secondary</td>\n",
       "      <td>NO</td>\n",
       "      <td>NO</td>\n",
       "    </tr>\n",
       "    <tr>\n",
       "      <th>14</th>\n",
       "      <td>Higher</td>\n",
       "      <td>NO</td>\n",
       "      <td>NO</td>\n",
       "      <td>VERY HAPPY</td>\n",
       "      <td>NONE / NO MORE</td>\n",
       "      <td>17.0</td>\n",
       "      <td>URBAN</td>\n",
       "      <td>Secondary</td>\n",
       "      <td>NO</td>\n",
       "      <td>NO</td>\n",
       "    </tr>\n",
       "  </tbody>\n",
       "</table>\n",
       "</div>"
      ],
      "text/plain": [
       "      welevel CL1X CL1B                        LS1             UN4  WAGEM  \\\n",
       "0      Higher   NO   NO                 VERY HAPPY  NONE / NO MORE   26.0   \n",
       "1      Higher   NO   NO                 VERY HAPPY  NONE / NO MORE   27.0   \n",
       "2      Higher   NO   NO                 VERY HAPPY  NONE / NO MORE   18.0   \n",
       "3      Higher   NO   NO             SOMEWHAT HAPPY  NONE / NO MORE   18.0   \n",
       "4      Higher   NO  YES                 VERY HAPPY  NONE / NO MORE   28.0   \n",
       "5      Higher   NO   NO  NEITHER HAPPY NOR UNHAPPY  NONE / NO MORE   26.0   \n",
       "6   Secondary   NO   NO                 VERY HAPPY  NONE / NO MORE   25.0   \n",
       "7   Secondary   NO   NO                 VERY HAPPY  NONE / NO MORE   20.0   \n",
       "8      Higher   NO   NO                 VERY HAPPY  NONE / NO MORE   20.0   \n",
       "9      Higher   NO   NO                 VERY HAPPY  NONE / NO MORE   25.0   \n",
       "10     Higher   NO   NO                 VERY HAPPY  NONE / NO MORE   17.0   \n",
       "11     Higher   NO   NO             SOMEWHAT HAPPY  NONE / NO MORE   19.0   \n",
       "12     Higher   NO   NO                 VERY HAPPY  NONE / NO MORE   27.0   \n",
       "13     Higher   NO   NO             SOMEWHAT HAPPY  NONE / NO MORE   20.0   \n",
       "14     Higher   NO   NO                 VERY HAPPY  NONE / NO MORE   17.0   \n",
       "\n",
       "      HH6         felevel UN2 VT22E  \n",
       "0   URBAN          Higher  NO    NO  \n",
       "1   URBAN          Higher  NO    NO  \n",
       "2   URBAN       Secondary  NO    NO  \n",
       "3   URBAN          Higher  NO    NO  \n",
       "4   URBAN          Higher  NO    NO  \n",
       "5   URBAN  None/Preschool  NO    NO  \n",
       "6   URBAN  None/Preschool  NO    NO  \n",
       "7   URBAN         Primary  NO    NO  \n",
       "8   URBAN         Primary  NO    NO  \n",
       "9   URBAN  None/Preschool  NO    NO  \n",
       "10  URBAN          Higher  NO    NO  \n",
       "11  URBAN          Higher  NO    NO  \n",
       "12  URBAN          Higher  NO    NO  \n",
       "13  URBAN       Secondary  NO    NO  \n",
       "14  URBAN       Secondary  NO    NO  "
      ]
     },
     "execution_count": 138,
     "metadata": {},
     "output_type": "execute_result"
    }
   ],
   "source": [
    "final_dataframe.head(15)"
   ]
  },
  {
   "cell_type": "code",
   "execution_count": 139,
   "id": "b1265a10",
   "metadata": {},
   "outputs": [
    {
     "data": {
      "text/plain": [
       "(10000, 10)"
      ]
     },
     "execution_count": 139,
     "metadata": {},
     "output_type": "execute_result"
    }
   ],
   "source": [
    "final_dataframe.shape"
   ]
  },
  {
   "cell_type": "code",
   "execution_count": 141,
   "id": "a1c3af37",
   "metadata": {},
   "outputs": [
    {
     "data": {
      "text/plain": [
       "<AxesSubplot:>"
      ]
     },
     "execution_count": 141,
     "metadata": {},
     "output_type": "execute_result"
    },
    {
     "data": {
      "image/png": "[encoded data removed]",
      "text/plain": [
       "<Figure size 432x288 with 2 Axes>"
      ]
     },
     "metadata": {
      "needs_background": "light"
     },
     "output_type": "display_data"
    }
   ],
   "source": [
    "sns.heatmap(final_dataframe.isnull()) #Showing there are no null values"
   ]
  },
  {
   "cell_type": "markdown",
   "id": "a0a65928",
   "metadata": {},
   "source": [
    "Export to a file"
   ]
  },
  {
   "cell_type": "code",
   "execution_count": 142,
   "id": "37d617c6",
   "metadata": {},
   "outputs": [],
   "source": [
    "import pyreadstat\n",
    "pyreadstat.write_sav(final_dataframe,'final_dataframe.sav')"
   ]
  },
  {
   "cell_type": "code",
   "execution_count": null,
   "id": "b23b4704",
   "metadata": {},
   "outputs": [],
   "source": []
  },
  {
   "cell_type": "code",
   "execution_count": null,
   "id": "ad21b0c9",
   "metadata": {},
   "outputs": [],
   "source": []
  }
 ],
 "metadata": {
  "kernelspec": {
   "display_name": "Python 3",
   "language": "python",
   "name": "python3"
  },
  "language_info": {
   "codemirror_mode": {
    "name": "ipython",
    "version": 3
   },
   "file_extension": ".py",
   "mimetype": "text/x-python",
   "name": "python",
   "nbconvert_exporter": "python",
   "pygments_lexer": "ipython3",
   "version": "3.8.8"
  }
 },
 "nbformat": 4,
 "nbformat_minor": 5
}
